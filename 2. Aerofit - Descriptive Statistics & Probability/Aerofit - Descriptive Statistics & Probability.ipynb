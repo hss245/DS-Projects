{
 "cells": [
  {
   "cell_type": "markdown",
   "id": "1f8599fb",
   "metadata": {},
   "source": [
    "### Problem Statement\n",
    "\n",
    "We are being provided with the aerofit trademill data for 3 unique products KP281, KP481 & KP781 and our goal is to analyze the dataset to find insights and give recommendations with respect to customer characteristics."
   ]
  },
  {
   "cell_type": "code",
   "execution_count": 1,
   "id": "0a18cb89",
   "metadata": {},
   "outputs": [],
   "source": [
    "# Loading all the necessary libraries\n",
    "\n",
    "import numpy as np               # for multidimensional array processing\n",
    "import pandas as pd              # for working with structured dataset\n",
    "import matplotlib.pyplot as plt  # for basic plotting functionalities\n",
    "import seaborn as sns            # for plotting advanced graphs\n",
    "import warnings                  # to supress any warnings coming out\n",
    "warnings.filterwarnings(\"ignore\")"
   ]
  },
  {
   "cell_type": "code",
   "execution_count": 2,
   "id": "5b74db71",
   "metadata": {},
   "outputs": [
    {
     "data": {
      "text/html": [
       "<div>\n",
       "<style scoped>\n",
       "    .dataframe tbody tr th:only-of-type {\n",
       "        vertical-align: middle;\n",
       "    }\n",
       "\n",
       "    .dataframe tbody tr th {\n",
       "        vertical-align: top;\n",
       "    }\n",
       "\n",
       "    .dataframe thead th {\n",
       "        text-align: right;\n",
       "    }\n",
       "</style>\n",
       "<table border=\"1\" class=\"dataframe\">\n",
       "  <thead>\n",
       "    <tr style=\"text-align: right;\">\n",
       "      <th></th>\n",
       "      <th>Product</th>\n",
       "      <th>Age</th>\n",
       "      <th>Gender</th>\n",
       "      <th>Education</th>\n",
       "      <th>MaritalStatus</th>\n",
       "      <th>Usage</th>\n",
       "      <th>Fitness</th>\n",
       "      <th>Income</th>\n",
       "      <th>Miles</th>\n",
       "    </tr>\n",
       "  </thead>\n",
       "  <tbody>\n",
       "    <tr>\n",
       "      <th>0</th>\n",
       "      <td>KP281</td>\n",
       "      <td>18</td>\n",
       "      <td>Male</td>\n",
       "      <td>14</td>\n",
       "      <td>Single</td>\n",
       "      <td>3</td>\n",
       "      <td>4</td>\n",
       "      <td>29562</td>\n",
       "      <td>112</td>\n",
       "    </tr>\n",
       "    <tr>\n",
       "      <th>1</th>\n",
       "      <td>KP281</td>\n",
       "      <td>19</td>\n",
       "      <td>Male</td>\n",
       "      <td>15</td>\n",
       "      <td>Single</td>\n",
       "      <td>2</td>\n",
       "      <td>3</td>\n",
       "      <td>31836</td>\n",
       "      <td>75</td>\n",
       "    </tr>\n",
       "    <tr>\n",
       "      <th>2</th>\n",
       "      <td>KP281</td>\n",
       "      <td>19</td>\n",
       "      <td>Female</td>\n",
       "      <td>14</td>\n",
       "      <td>Partnered</td>\n",
       "      <td>4</td>\n",
       "      <td>3</td>\n",
       "      <td>30699</td>\n",
       "      <td>66</td>\n",
       "    </tr>\n",
       "    <tr>\n",
       "      <th>3</th>\n",
       "      <td>KP281</td>\n",
       "      <td>19</td>\n",
       "      <td>Male</td>\n",
       "      <td>12</td>\n",
       "      <td>Single</td>\n",
       "      <td>3</td>\n",
       "      <td>3</td>\n",
       "      <td>32973</td>\n",
       "      <td>85</td>\n",
       "    </tr>\n",
       "    <tr>\n",
       "      <th>4</th>\n",
       "      <td>KP281</td>\n",
       "      <td>20</td>\n",
       "      <td>Male</td>\n",
       "      <td>13</td>\n",
       "      <td>Partnered</td>\n",
       "      <td>4</td>\n",
       "      <td>2</td>\n",
       "      <td>35247</td>\n",
       "      <td>47</td>\n",
       "    </tr>\n",
       "  </tbody>\n",
       "</table>\n",
       "</div>"
      ],
      "text/plain": [
       "  Product  Age  Gender  Education MaritalStatus  Usage  Fitness  Income  Miles\n",
       "0   KP281   18    Male         14        Single      3        4   29562    112\n",
       "1   KP281   19    Male         15        Single      2        3   31836     75\n",
       "2   KP281   19  Female         14     Partnered      4        3   30699     66\n",
       "3   KP281   19    Male         12        Single      3        3   32973     85\n",
       "4   KP281   20    Male         13     Partnered      4        2   35247     47"
      ]
     },
     "execution_count": 2,
     "metadata": {},
     "output_type": "execute_result"
    }
   ],
   "source": [
    "aerofit = pd.read_csv('aerofit_treadmill.csv')\n",
    "aerofit.head()"
   ]
  },
  {
   "cell_type": "markdown",
   "id": "dfa9e5f6",
   "metadata": {},
   "source": [
    "#### 1. Basic Exploratory Data Analysis"
   ]
  },
  {
   "cell_type": "code",
   "execution_count": 3,
   "id": "71b2752c",
   "metadata": {},
   "outputs": [
    {
     "data": {
      "text/plain": [
       "(180, 9)"
      ]
     },
     "execution_count": 3,
     "metadata": {},
     "output_type": "execute_result"
    }
   ],
   "source": [
    "aerofit.shape"
   ]
  },
  {
   "cell_type": "markdown",
   "id": "f3105445",
   "metadata": {},
   "source": [
    "In the aerofit dataset there are 180 rows and 9 columns present"
   ]
  },
  {
   "cell_type": "markdown",
   "id": "e4dcffe0",
   "metadata": {},
   "source": [
    "<b> Attribute information of Aerofit Data </b>\n",
    "\n",
    "<b>Product Purchased:</b>\tKP281, KP481, or KP781 (categorical variable) <br> <br>\n",
    "<b>Age:</b>\tIn years (continuous variable) <br> <br>\n",
    "<b>Gender:</b>\tMale/Female (categorical variable) <br> <br>\n",
    "<b>Education:</b>\tIn years (continuous variable) <br> <br>\n",
    "<b>MaritalStatus:</b>\tSingle or partnered  (categorical variable) <br> <br>\n",
    "<b>Usage:</b>\tThe average number of times the customer plans to use the treadmill each week. <br> <br>\n",
    "<b>Income:</b>\tAnnual income (in $) (continuous variable) <br> <br>\n",
    "<b>Fitness:</b>\tSelf-rated fitness on a 1-to-5 scale, where 1 is the poor shape and 5 is the excellent shape. <br> <br>\n",
    "<b>Miles:</b>\tThe average number of miles the customer expects to walk/run each week (continuous variable) <br> <br>"
   ]
  },
  {
   "cell_type": "code",
   "execution_count": 4,
   "id": "b6c6670c",
   "metadata": {},
   "outputs": [
    {
     "data": {
      "text/plain": [
       "Product          0\n",
       "Age              0\n",
       "Gender           0\n",
       "Education        0\n",
       "MaritalStatus    0\n",
       "Usage            0\n",
       "Fitness          0\n",
       "Income           0\n",
       "Miles            0\n",
       "dtype: int64"
      ]
     },
     "execution_count": 4,
     "metadata": {},
     "output_type": "execute_result"
    }
   ],
   "source": [
    "aerofit.isnull().sum()"
   ]
  },
  {
   "cell_type": "markdown",
   "id": "e88f7153",
   "metadata": {},
   "source": [
    "As we can see that there are no missing values present in the dataset"
   ]
  },
  {
   "cell_type": "code",
   "execution_count": 5,
   "id": "18c4f252",
   "metadata": {},
   "outputs": [
    {
     "name": "stdout",
     "output_type": "stream",
     "text": [
      "<class 'pandas.core.frame.DataFrame'>\n",
      "RangeIndex: 180 entries, 0 to 179\n",
      "Data columns (total 9 columns):\n",
      " #   Column         Non-Null Count  Dtype \n",
      "---  ------         --------------  ----- \n",
      " 0   Product        180 non-null    object\n",
      " 1   Age            180 non-null    int64 \n",
      " 2   Gender         180 non-null    object\n",
      " 3   Education      180 non-null    int64 \n",
      " 4   MaritalStatus  180 non-null    object\n",
      " 5   Usage          180 non-null    int64 \n",
      " 6   Fitness        180 non-null    int64 \n",
      " 7   Income         180 non-null    int64 \n",
      " 8   Miles          180 non-null    int64 \n",
      "dtypes: int64(6), object(3)\n",
      "memory usage: 12.8+ KB\n"
     ]
    }
   ],
   "source": [
    "aerofit.info()"
   ]
  },
  {
   "cell_type": "markdown",
   "id": "bc6c6c6d",
   "metadata": {},
   "source": [
    "If we look at the dataset information then we can conclude that all columns are <b> integers (int64) </b> except column <b> Product, Gender </b> and <b> MaritalStatus </b> since they are categorical hence, they are objects."
   ]
  },
  {
   "cell_type": "code",
   "execution_count": 6,
   "id": "cf54a8a5",
   "metadata": {},
   "outputs": [
    {
     "data": {
      "text/html": [
       "<div>\n",
       "<style scoped>\n",
       "    .dataframe tbody tr th:only-of-type {\n",
       "        vertical-align: middle;\n",
       "    }\n",
       "\n",
       "    .dataframe tbody tr th {\n",
       "        vertical-align: top;\n",
       "    }\n",
       "\n",
       "    .dataframe thead th {\n",
       "        text-align: right;\n",
       "    }\n",
       "</style>\n",
       "<table border=\"1\" class=\"dataframe\">\n",
       "  <thead>\n",
       "    <tr style=\"text-align: right;\">\n",
       "      <th></th>\n",
       "      <th>Age</th>\n",
       "      <th>Education</th>\n",
       "      <th>Usage</th>\n",
       "      <th>Fitness</th>\n",
       "      <th>Income</th>\n",
       "      <th>Miles</th>\n",
       "    </tr>\n",
       "  </thead>\n",
       "  <tbody>\n",
       "    <tr>\n",
       "      <th>count</th>\n",
       "      <td>180.000000</td>\n",
       "      <td>180.000000</td>\n",
       "      <td>180.000000</td>\n",
       "      <td>180.000000</td>\n",
       "      <td>180.000000</td>\n",
       "      <td>180.000000</td>\n",
       "    </tr>\n",
       "    <tr>\n",
       "      <th>mean</th>\n",
       "      <td>28.788889</td>\n",
       "      <td>15.572222</td>\n",
       "      <td>3.455556</td>\n",
       "      <td>3.311111</td>\n",
       "      <td>53719.577778</td>\n",
       "      <td>103.194444</td>\n",
       "    </tr>\n",
       "    <tr>\n",
       "      <th>std</th>\n",
       "      <td>6.943498</td>\n",
       "      <td>1.617055</td>\n",
       "      <td>1.084797</td>\n",
       "      <td>0.958869</td>\n",
       "      <td>16506.684226</td>\n",
       "      <td>51.863605</td>\n",
       "    </tr>\n",
       "    <tr>\n",
       "      <th>min</th>\n",
       "      <td>18.000000</td>\n",
       "      <td>12.000000</td>\n",
       "      <td>2.000000</td>\n",
       "      <td>1.000000</td>\n",
       "      <td>29562.000000</td>\n",
       "      <td>21.000000</td>\n",
       "    </tr>\n",
       "    <tr>\n",
       "      <th>25%</th>\n",
       "      <td>24.000000</td>\n",
       "      <td>14.000000</td>\n",
       "      <td>3.000000</td>\n",
       "      <td>3.000000</td>\n",
       "      <td>44058.750000</td>\n",
       "      <td>66.000000</td>\n",
       "    </tr>\n",
       "    <tr>\n",
       "      <th>50%</th>\n",
       "      <td>26.000000</td>\n",
       "      <td>16.000000</td>\n",
       "      <td>3.000000</td>\n",
       "      <td>3.000000</td>\n",
       "      <td>50596.500000</td>\n",
       "      <td>94.000000</td>\n",
       "    </tr>\n",
       "    <tr>\n",
       "      <th>75%</th>\n",
       "      <td>33.000000</td>\n",
       "      <td>16.000000</td>\n",
       "      <td>4.000000</td>\n",
       "      <td>4.000000</td>\n",
       "      <td>58668.000000</td>\n",
       "      <td>114.750000</td>\n",
       "    </tr>\n",
       "    <tr>\n",
       "      <th>max</th>\n",
       "      <td>50.000000</td>\n",
       "      <td>21.000000</td>\n",
       "      <td>7.000000</td>\n",
       "      <td>5.000000</td>\n",
       "      <td>104581.000000</td>\n",
       "      <td>360.000000</td>\n",
       "    </tr>\n",
       "  </tbody>\n",
       "</table>\n",
       "</div>"
      ],
      "text/plain": [
       "              Age   Education       Usage     Fitness         Income  \\\n",
       "count  180.000000  180.000000  180.000000  180.000000     180.000000   \n",
       "mean    28.788889   15.572222    3.455556    3.311111   53719.577778   \n",
       "std      6.943498    1.617055    1.084797    0.958869   16506.684226   \n",
       "min     18.000000   12.000000    2.000000    1.000000   29562.000000   \n",
       "25%     24.000000   14.000000    3.000000    3.000000   44058.750000   \n",
       "50%     26.000000   16.000000    3.000000    3.000000   50596.500000   \n",
       "75%     33.000000   16.000000    4.000000    4.000000   58668.000000   \n",
       "max     50.000000   21.000000    7.000000    5.000000  104581.000000   \n",
       "\n",
       "            Miles  \n",
       "count  180.000000  \n",
       "mean   103.194444  \n",
       "std     51.863605  \n",
       "min     21.000000  \n",
       "25%     66.000000  \n",
       "50%     94.000000  \n",
       "75%    114.750000  \n",
       "max    360.000000  "
      ]
     },
     "execution_count": 6,
     "metadata": {},
     "output_type": "execute_result"
    }
   ],
   "source": [
    "aerofit.describe()"
   ]
  },
  {
   "cell_type": "markdown",
   "id": "621588c9",
   "metadata": {},
   "source": [
    "If we see here than we can see that all column scales are different.\n",
    "\n",
    "Like, Income is expressed in thousands or hundereds of thousands while Usage & Fitness is typical in single digit numbers."
   ]
  },
  {
   "cell_type": "markdown",
   "id": "7c779f5d",
   "metadata": {},
   "source": [
    "\n",
    "<b> Observation : </b> <br>\n",
    "We can say that average age of customer who is using these trademills irrespective of Male or Female gender is around 29 years with average income of 53719 dollars and they are running on average 103 miles.\n",
    "\n",
    "Let us dig deep into data to see what these numbers should actually been."
   ]
  },
  {
   "cell_type": "markdown",
   "id": "3013aace",
   "metadata": {},
   "source": [
    "#### 2. Graphical & Predictive Analysis"
   ]
  },
  {
   "cell_type": "code",
   "execution_count": 7,
   "id": "520a2e3d",
   "metadata": {},
   "outputs": [
    {
     "data": {
      "text/plain": [
       "KP281    80\n",
       "KP481    60\n",
       "KP781    40\n",
       "Name: Product, dtype: int64"
      ]
     },
     "execution_count": 7,
     "metadata": {},
     "output_type": "execute_result"
    }
   ],
   "source": [
    "aerofit['Product'].value_counts()"
   ]
  },
  {
   "cell_type": "markdown",
   "id": "772e29bc",
   "metadata": {},
   "source": [
    "If we see above count then most Product pruchased is KP281 with 80 purchases then KP481 with 60 and KP781 with 40 purchases."
   ]
  },
  {
   "cell_type": "code",
   "execution_count": 8,
   "id": "fdd3f158",
   "metadata": {},
   "outputs": [
    {
     "data": {
      "text/plain": [
       "Male      104\n",
       "Female     76\n",
       "Name: Gender, dtype: int64"
      ]
     },
     "execution_count": 8,
     "metadata": {},
     "output_type": "execute_result"
    }
   ],
   "source": [
    "aerofit['Gender'].value_counts()"
   ]
  },
  {
   "cell_type": "markdown",
   "id": "136c1160",
   "metadata": {},
   "source": [
    "If we see gender wise then male people prefer to buy trademills more as compared to females since male count is higher than females."
   ]
  },
  {
   "cell_type": "code",
   "execution_count": 9,
   "id": "91ee3c89",
   "metadata": {},
   "outputs": [
    {
     "data": {
      "text/plain": [
       "Partnered    107\n",
       "Single        73\n",
       "Name: MaritalStatus, dtype: int64"
      ]
     },
     "execution_count": 9,
     "metadata": {},
     "output_type": "execute_result"
    }
   ],
   "source": [
    "aerofit['MaritalStatus'].value_counts()"
   ]
  },
  {
   "cell_type": "markdown",
   "id": "0bf8161a",
   "metadata": {},
   "source": [
    "Partnered people tend to buy more trademills as compared to single as single people are mostly focussed to be in shape or to get slim but partnered people stay to remain healthy and to maintain a good relationship."
   ]
  },
  {
   "cell_type": "code",
   "execution_count": 10,
   "id": "b3f2244d",
   "metadata": {},
   "outputs": [
    {
     "data": {
      "image/png": "[encoded data removed]",
      "text/plain": [
       "<Figure size 432x288 with 1 Axes>"
      ]
     },
     "metadata": {
      "needs_background": "light"
     },
     "output_type": "display_data"
    }
   ],
   "source": [
    "aerofit['Product'].value_counts().plot(kind = 'bar')\n",
    "plt.xticks(rotation = 30)\n",
    "plt.show()"
   ]
  },
  {
   "cell_type": "markdown",
   "id": "5771cf17",
   "metadata": {},
   "source": [
    "<b> Observation </b> <br>\n",
    "\n",
    "We can say that KP281 is most selling product since it is cheaper as compared to KP781 which is costlier. KP481 is intermediate cost hence is in between both the products."
   ]
  },
  {
   "cell_type": "code",
   "execution_count": 11,
   "id": "398e53cf",
   "metadata": {},
   "outputs": [
    {
     "data": {
      "image/png": "[encoded data removed]",
      "text/plain": [
       "<Figure size 576x360 with 1 Axes>"
      ]
     },
     "metadata": {
      "needs_background": "light"
     },
     "output_type": "display_data"
    }
   ],
   "source": [
    "fig = plt.figure(figsize = (8, 5))\n",
    "sns.countplot(x = 'Product', data = aerofit, hue = 'Gender')\n",
    "plt.show()"
   ]
  },
  {
   "cell_type": "markdown",
   "id": "2dc87840",
   "metadata": {},
   "source": [
    "<b> Observation </b> <br>\n",
    "\n",
    "If we see gender wise product purchased then Males and females have equally bought KP281 product but males tend to buy more KP481 and KP781 trademills."
   ]
  },
  {
   "cell_type": "markdown",
   "id": "a900446f",
   "metadata": {},
   "source": [
    "<b> Recommendation </b> <br>\n",
    "\n",
    "For product KP281 both male and female are our potential customer and so is the case for KP481 as there is a slight difference between males and females who bought KP481 but for KP781 the target audience is males as compared to females as it is mostly being bought by male customers."
   ]
  },
  {
   "cell_type": "code",
   "execution_count": 12,
   "id": "f8fc0b48",
   "metadata": {},
   "outputs": [
    {
     "data": {
      "image/png": "[encoded data removed]",
      "text/plain": [
       "<Figure size 576x360 with 1 Axes>"
      ]
     },
     "metadata": {
      "needs_background": "light"
     },
     "output_type": "display_data"
    }
   ],
   "source": [
    "fig = plt.figure(figsize = (8, 5))\n",
    "sns.countplot(x = 'Product', data = aerofit, hue = 'MaritalStatus')\n",
    "plt.show()"
   ]
  },
  {
   "cell_type": "markdown",
   "id": "ac76d502",
   "metadata": {},
   "source": [
    "<b> Recommendation </b> <br>\n",
    "\n",
    "If we see MaritalStatus based count for each product then we can notice that for KP281, KP481 and KP781 product people who are partnered have bought more trademills as compared to Single People, hence aerofit can come up with more offers for Partnered people to ramp up their sales but they should not loose focus on Single as they are also customers."
   ]
  },
  {
   "cell_type": "code",
   "execution_count": 13,
   "id": "a4ff3318",
   "metadata": {},
   "outputs": [
    {
     "data": {
      "image/png": "[encoded data removed]",
      "text/plain": [
       "<Figure size 432x288 with 1 Axes>"
      ]
     },
     "metadata": {
      "needs_background": "light"
     },
     "output_type": "display_data"
    }
   ],
   "source": [
    "aerofit['Income'].plot(kind = 'box')\n",
    "plt.show()"
   ]
  },
  {
   "cell_type": "code",
   "execution_count": 14,
   "id": "1ebe716a",
   "metadata": {},
   "outputs": [
    {
     "data": {
      "text/plain": [
       "50596.5"
      ]
     },
     "execution_count": 14,
     "metadata": {},
     "output_type": "execute_result"
    }
   ],
   "source": [
    "np.median(aerofit['Income'])"
   ]
  },
  {
   "cell_type": "markdown",
   "id": "0cfc8832",
   "metadata": {},
   "source": [
    "<b> Observation </b> <br>\n",
    "\n",
    "If we see the above boxplot then we can say that Median Income is 50000 dollars but some people are earning more than 80000 dollars which are considered as outliers for the dataset.\n",
    "So, there are several outliers in the dataset where the income of the individual is higher than 80000 dollars and they still have purchased the trademills. <br>\n",
    "We can say that peple having salary more than 30000 dollars are purchasing the trademill and there are no customers with salary less than 30000 dollars."
   ]
  },
  {
   "cell_type": "code",
   "execution_count": 15,
   "id": "b4a65049",
   "metadata": {},
   "outputs": [
    {
     "data": {
      "image/png": "[encoded data removed]",
      "text/plain": [
       "<Figure size 432x288 with 1 Axes>"
      ]
     },
     "metadata": {
      "needs_background": "light"
     },
     "output_type": "display_data"
    }
   ],
   "source": [
    "sns.boxplot(x = 'Product', y = 'Income', data = aerofit)\n",
    "plt.show()"
   ]
  },
  {
   "cell_type": "markdown",
   "id": "2faabb7c",
   "metadata": {},
   "source": [
    "<b> Observation </b> <br>\n",
    "\n",
    "If we see above boxplot then a person whose median or average salary (we are considering average here because median is a good measure of central tendency when there are outliers) is around 45000 dollars for product KP281. It is 51000 dollars for KP481 and around 80000 dollars for KP781.\n",
    "\n",
    "Hence, wealthier people are most likely to purchase KP781 product"
   ]
  },
  {
   "cell_type": "code",
   "execution_count": 16,
   "id": "0c6cf4d6",
   "metadata": {},
   "outputs": [
    {
     "data": {
      "image/png": "[encoded data removed]",
      "text/plain": [
       "<Figure size 432x288 with 1 Axes>"
      ]
     },
     "metadata": {
      "needs_background": "light"
     },
     "output_type": "display_data"
    }
   ],
   "source": [
    "sns.boxplot(x = 'Gender', y = 'Income', hue = 'Product', data = aerofit)\n",
    "plt.show()"
   ]
  },
  {
   "cell_type": "markdown",
   "id": "5bbb2d9b",
   "metadata": {},
   "source": [
    "<b> Recommendation </b> <br>\n",
    "\n",
    "On seeing the above boxplot we can say that males with salary of more than 70000 dollars are potential customers for KP781 and more campaign or ads can be done to close more sales whereas in case of females there is a general distribution and females earning good tend to buy costlier trademills and with less salary they buy KP281.\n",
    "\n",
    "Also, interestingly males and females buying KP281 have similar median income so any customer with low salary range irrespective of gender can be prescribed product KP281."
   ]
  },
  {
   "cell_type": "code",
   "execution_count": 17,
   "id": "5ccf8300",
   "metadata": {},
   "outputs": [
    {
     "data": {
      "image/png": "[encoded data removed]",
      "text/plain": [
       "<Figure size 432x288 with 1 Axes>"
      ]
     },
     "metadata": {
      "needs_background": "light"
     },
     "output_type": "display_data"
    }
   ],
   "source": [
    "sns.boxplot(x = 'Product', y = 'Miles', hue = 'Gender', data = aerofit)\n",
    "plt.legend(loc = 'upper left')\n",
    "plt.show()"
   ]
  },
  {
   "cell_type": "markdown",
   "id": "5f2d2d03",
   "metadata": {},
   "source": [
    "<b> Observation </b> <br>\n",
    "\n",
    "If we see above boxplot then a person who is a fitness freak or health conscious is purchasing KP781 irrespective of Female or Male gender and the same can be verified from the above boxplot.\n",
    "\n",
    "KP281 is mostly purchased by those females who run less miles and had just purchased to let themselves in shape. So any female looking for light running can go for KP281 product although there are some outliers here as maybe salary is not hight but she is a fitness freak.\n",
    "\n",
    "For male customers also we can say that someone running less than 100 miles week tend to purchase KP281 and someone running below 150 miles and above 100 miles will pruchase KP481 and a fitness freak will go for KP781."
   ]
  },
  {
   "cell_type": "markdown",
   "id": "48e372ca",
   "metadata": {},
   "source": [
    "<b> Recommendation </b> <br>\n",
    "\n",
    "For fitness freaks or health conscious people we can recommend KP781 product who wants to run atleast 150 miles (ignoring outliers in this case) irrespective of gender."
   ]
  },
  {
   "cell_type": "code",
   "execution_count": 18,
   "id": "f0f61185",
   "metadata": {},
   "outputs": [
    {
     "data": {
      "text/html": [
       "<div>\n",
       "<style scoped>\n",
       "    .dataframe tbody tr th:only-of-type {\n",
       "        vertical-align: middle;\n",
       "    }\n",
       "\n",
       "    .dataframe tbody tr th {\n",
       "        vertical-align: top;\n",
       "    }\n",
       "\n",
       "    .dataframe thead th {\n",
       "        text-align: right;\n",
       "    }\n",
       "</style>\n",
       "<table border=\"1\" class=\"dataframe\">\n",
       "  <thead>\n",
       "    <tr style=\"text-align: right;\">\n",
       "      <th>Gender</th>\n",
       "      <th>Female</th>\n",
       "      <th>Male</th>\n",
       "    </tr>\n",
       "    <tr>\n",
       "      <th>Product</th>\n",
       "      <th></th>\n",
       "      <th></th>\n",
       "    </tr>\n",
       "  </thead>\n",
       "  <tbody>\n",
       "    <tr>\n",
       "      <th>KP281</th>\n",
       "      <td>0.526316</td>\n",
       "      <td>0.384615</td>\n",
       "    </tr>\n",
       "    <tr>\n",
       "      <th>KP481</th>\n",
       "      <td>0.381579</td>\n",
       "      <td>0.298077</td>\n",
       "    </tr>\n",
       "    <tr>\n",
       "      <th>KP781</th>\n",
       "      <td>0.092105</td>\n",
       "      <td>0.317308</td>\n",
       "    </tr>\n",
       "  </tbody>\n",
       "</table>\n",
       "</div>"
      ],
      "text/plain": [
       "Gender     Female      Male\n",
       "Product                    \n",
       "KP281    0.526316  0.384615\n",
       "KP481    0.381579  0.298077\n",
       "KP781    0.092105  0.317308"
      ]
     },
     "execution_count": 18,
     "metadata": {},
     "output_type": "execute_result"
    }
   ],
   "source": [
    "pd.crosstab(aerofit.Product, aerofit.Gender, normalize = 'columns')"
   ]
  },
  {
   "cell_type": "markdown",
   "id": "e8b0678d",
   "metadata": {},
   "source": [
    "<b> Recommendation </b> <br>\n",
    "\n",
    "On finding marginal probability for gender wise females are 52% likely to buy product KP281, 38% for product KP481 and 9% for product KP781. <br>\n",
    "On the other hand, males have approximately equal probabilites of purchasing all three trademill but probability for purchasing trademill KP281 is little higher"
   ]
  },
  {
   "cell_type": "code",
   "execution_count": 19,
   "id": "1b2e975f",
   "metadata": {},
   "outputs": [
    {
     "data": {
      "image/png": "[encoded data removed]",
      "text/plain": [
       "<Figure size 432x288 with 1 Axes>"
      ]
     },
     "metadata": {
      "needs_background": "light"
     },
     "output_type": "display_data"
    }
   ],
   "source": [
    "plt.hist(aerofit['Income'], bins = 10)\n",
    "plt.show()"
   ]
  },
  {
   "cell_type": "code",
   "execution_count": 20,
   "id": "fa7d449e",
   "metadata": {},
   "outputs": [
    {
     "data": {
      "image/png": "[encoded data removed]",
      "text/plain": [
       "<Figure size 432x288 with 1 Axes>"
      ]
     },
     "metadata": {
      "needs_background": "light"
     },
     "output_type": "display_data"
    }
   ],
   "source": [
    "sns.kdeplot(x = 'Income', hue = 'Gender', data = aerofit, fill = True)\n",
    "plt.show()"
   ]
  },
  {
   "cell_type": "code",
   "execution_count": 21,
   "id": "f42472a2",
   "metadata": {},
   "outputs": [
    {
     "data": {
      "image/png": "[encoded data removed]",
      "text/plain": [
       "<Figure size 432x288 with 1 Axes>"
      ]
     },
     "metadata": {
      "needs_background": "light"
     },
     "output_type": "display_data"
    }
   ],
   "source": [
    "sns.kdeplot(x = 'Income', hue = 'Product', data = aerofit, fill = True)\n",
    "plt.show()"
   ]
  },
  {
   "cell_type": "markdown",
   "id": "1314a43e",
   "metadata": {},
   "source": [
    "<b> Observation </b> <br>\n",
    "\n",
    "If we look at above density plot and histogram then people with salary 50000 dollars are most buyers and for male and female the salary distribution is similar except at higher ranges when salary increase 75000 dollars.\n",
    "\n",
    "Also, KP781 is bought frequently when salary is very high and KP481 & KP281 is when salary is around 50000 dollars or when salary is low."
   ]
  },
  {
   "cell_type": "code",
   "execution_count": 22,
   "id": "ebb301ba",
   "metadata": {},
   "outputs": [
    {
     "data": {
      "image/png": "[encoded data removed]",
      "text/plain": [
       "<Figure size 576x360 with 1 Axes>"
      ]
     },
     "metadata": {
      "needs_background": "light"
     },
     "output_type": "display_data"
    }
   ],
   "source": [
    "fig = plt.figure(figsize = (8, 5))\n",
    "sns.scatterplot(x = 'Income',y = 'Miles', data = aerofit, hue = 'Product')\n",
    "plt.show()"
   ]
  },
  {
   "cell_type": "markdown",
   "id": "f42ee308",
   "metadata": {},
   "source": [
    "<b> Observation </b> <br>\n",
    "\n",
    "If we look at above plot then people who have bought KP781 has high income and are those people who run more miles. The same analysis was done above and it clearly matches with this.\n",
    "\n",
    "Also, for KP281 and KP481 income is less than 70000 dollars and are mostly people who run for good health but are not fitness freaks."
   ]
  },
  {
   "cell_type": "code",
   "execution_count": 23,
   "id": "754f2fa7",
   "metadata": {},
   "outputs": [
    {
     "data": {
      "image/png": "[encoded data removed]",
      "text/plain": [
       "<Figure size 432x288 with 1 Axes>"
      ]
     },
     "metadata": {
      "needs_background": "light"
     },
     "output_type": "display_data"
    }
   ],
   "source": [
    "plt.hist(aerofit['Age'])\n",
    "plt.show()"
   ]
  },
  {
   "cell_type": "code",
   "execution_count": 24,
   "id": "ebb27154",
   "metadata": {},
   "outputs": [
    {
     "data": {
      "image/png": "[encoded data removed]",
      "text/plain": [
       "<Figure size 432x288 with 1 Axes>"
      ]
     },
     "metadata": {
      "needs_background": "light"
     },
     "output_type": "display_data"
    }
   ],
   "source": [
    "sns.kdeplot(x = 'Age', hue = 'Gender', data = aerofit, fill = True)\n",
    "plt.show()"
   ]
  },
  {
   "cell_type": "code",
   "execution_count": 25,
   "id": "bcadc5c6",
   "metadata": {},
   "outputs": [
    {
     "data": {
      "image/png": "[encoded data removed]",
      "text/plain": [
       "<Figure size 432x288 with 1 Axes>"
      ]
     },
     "metadata": {
      "needs_background": "light"
     },
     "output_type": "display_data"
    }
   ],
   "source": [
    "sns.kdeplot(x = 'Age', hue = 'Product', data = aerofit, fill = True)\n",
    "plt.show()"
   ]
  },
  {
   "cell_type": "markdown",
   "id": "33cd8761",
   "metadata": {},
   "source": [
    "<b> Observation </b> <br>\n",
    "\n",
    "If we look at above plot then people using these trademills are mostly between 20 to 30 years age who are generally more active in nature. People more than 50 years of age are very less and there is no one more than 60 years of age as after this age exercise becomes troublesome.\n",
    "\n",
    "The age distribution for male and female is almost similar.\n",
    "\n",
    "Also, KP781 is bought by younger people than older people while KP481 is bought by every age group people while KP281 is bought by also nearly every age group"
   ]
  },
  {
   "cell_type": "code",
   "execution_count": 26,
   "id": "bab4be00",
   "metadata": {},
   "outputs": [
    {
     "data": {
      "image/png": "[encoded data removed]",
      "text/plain": [
       "<Figure size 432x288 with 1 Axes>"
      ]
     },
     "metadata": {
      "needs_background": "light"
     },
     "output_type": "display_data"
    }
   ],
   "source": [
    "sns.boxplot(x = 'Gender', y = 'Age', data = aerofit)\n",
    "plt.show()"
   ]
  },
  {
   "cell_type": "markdown",
   "id": "43cbfff5",
   "metadata": {},
   "source": [
    "<b> Observation </b> <br>\n",
    "\n",
    "If we look at the boxplot then Male people median age who purchased these trademills is around 26 while for female it is 28. Also, there is a female whose age is near 50 and is an outlier but we cannot see this behaviour in males."
   ]
  },
  {
   "cell_type": "code",
   "execution_count": 27,
   "id": "0fb72987",
   "metadata": {},
   "outputs": [
    {
     "data": {
      "image/png": "[encoded data removed]",
      "text/plain": [
       "<Figure size 576x432 with 1 Axes>"
      ]
     },
     "metadata": {
      "needs_background": "light"
     },
     "output_type": "display_data"
    }
   ],
   "source": [
    "fig = plt.figure(figsize = (8,6))\n",
    "\n",
    "sns.boxplot(x = 'Product', y = 'Age', hue = 'Gender', data = aerofit)\n",
    "plt.show()"
   ]
  },
  {
   "cell_type": "markdown",
   "id": "82f225c8",
   "metadata": {},
   "source": [
    "<b> Observation </b> <br>\n",
    "\n",
    "If we look at the boxplot then KP781 product is generally purchased by people below 30 years age as they are highly worried about health or they maybe atheletes. There are rare cases where male people beyond 40 have purchased KP781 and for that main reason is income. No female person beyond 35 go for KP781\n",
    "\n",
    "For KP481 people with good income and around 30 years of age are buying them (in case of females) and for males it is 25.\n",
    "\n",
    "For KP281 people less than 27 years are buying to stay fit"
   ]
  },
  {
   "cell_type": "code",
   "execution_count": 28,
   "id": "7a2a8460",
   "metadata": {},
   "outputs": [
    {
     "data": {
      "image/png": "[encoded data removed]",
      "text/plain": [
       "<Figure size 432x288 with 1 Axes>"
      ]
     },
     "metadata": {
      "needs_background": "light"
     },
     "output_type": "display_data"
    }
   ],
   "source": [
    "plt.hist(aerofit['Miles'])\n",
    "plt.show()"
   ]
  },
  {
   "cell_type": "code",
   "execution_count": 29,
   "id": "67c1ae9b",
   "metadata": {},
   "outputs": [
    {
     "data": {
      "image/png": "[encoded data removed]",
      "text/plain": [
       "<Figure size 432x288 with 1 Axes>"
      ]
     },
     "metadata": {
      "needs_background": "light"
     },
     "output_type": "display_data"
    }
   ],
   "source": [
    "sns.kdeplot(x = 'Miles', hue = 'Product', data = aerofit, fill = True)\n",
    "plt.show()"
   ]
  },
  {
   "cell_type": "markdown",
   "id": "be630788",
   "metadata": {},
   "source": [
    "<b> Observation </b> </br>\n",
    "\n",
    "If we look at the above density or histogram then person who tends to burn more calories or run more miles tend to pruchase KP781 while people intending to burn near 110 or 120 calories buy KP481 while for normal routine or exercise people buy KP281."
   ]
  },
  {
   "cell_type": "markdown",
   "id": "50020473",
   "metadata": {},
   "source": [
    "<b> Recommendation </b> </br>\n",
    "\n",
    "As suggested above people who are fitness freaks will definitely go for KP781 while people intending to run or loose weight can go for KP481 and for normal routine can go for KP281"
   ]
  },
  {
   "cell_type": "code",
   "execution_count": 30,
   "id": "96ae3101",
   "metadata": {},
   "outputs": [
    {
     "data": {
      "text/html": [
       "<div>\n",
       "<style scoped>\n",
       "    .dataframe tbody tr th:only-of-type {\n",
       "        vertical-align: middle;\n",
       "    }\n",
       "\n",
       "    .dataframe tbody tr th {\n",
       "        vertical-align: top;\n",
       "    }\n",
       "\n",
       "    .dataframe thead th {\n",
       "        text-align: right;\n",
       "    }\n",
       "</style>\n",
       "<table border=\"1\" class=\"dataframe\">\n",
       "  <thead>\n",
       "    <tr style=\"text-align: right;\">\n",
       "      <th></th>\n",
       "      <th>Product</th>\n",
       "      <th>Age</th>\n",
       "      <th>Gender</th>\n",
       "      <th>Education</th>\n",
       "      <th>MaritalStatus</th>\n",
       "      <th>Usage</th>\n",
       "      <th>Fitness</th>\n",
       "      <th>Income</th>\n",
       "      <th>Miles</th>\n",
       "    </tr>\n",
       "  </thead>\n",
       "  <tbody>\n",
       "    <tr>\n",
       "      <th>0</th>\n",
       "      <td>KP281</td>\n",
       "      <td>18</td>\n",
       "      <td>Male</td>\n",
       "      <td>14</td>\n",
       "      <td>Single</td>\n",
       "      <td>3</td>\n",
       "      <td>4</td>\n",
       "      <td>29562</td>\n",
       "      <td>112</td>\n",
       "    </tr>\n",
       "    <tr>\n",
       "      <th>1</th>\n",
       "      <td>KP281</td>\n",
       "      <td>19</td>\n",
       "      <td>Male</td>\n",
       "      <td>15</td>\n",
       "      <td>Single</td>\n",
       "      <td>2</td>\n",
       "      <td>3</td>\n",
       "      <td>31836</td>\n",
       "      <td>75</td>\n",
       "    </tr>\n",
       "    <tr>\n",
       "      <th>2</th>\n",
       "      <td>KP281</td>\n",
       "      <td>19</td>\n",
       "      <td>Female</td>\n",
       "      <td>14</td>\n",
       "      <td>Partnered</td>\n",
       "      <td>4</td>\n",
       "      <td>3</td>\n",
       "      <td>30699</td>\n",
       "      <td>66</td>\n",
       "    </tr>\n",
       "    <tr>\n",
       "      <th>3</th>\n",
       "      <td>KP281</td>\n",
       "      <td>19</td>\n",
       "      <td>Male</td>\n",
       "      <td>12</td>\n",
       "      <td>Single</td>\n",
       "      <td>3</td>\n",
       "      <td>3</td>\n",
       "      <td>32973</td>\n",
       "      <td>85</td>\n",
       "    </tr>\n",
       "    <tr>\n",
       "      <th>4</th>\n",
       "      <td>KP281</td>\n",
       "      <td>20</td>\n",
       "      <td>Male</td>\n",
       "      <td>13</td>\n",
       "      <td>Partnered</td>\n",
       "      <td>4</td>\n",
       "      <td>2</td>\n",
       "      <td>35247</td>\n",
       "      <td>47</td>\n",
       "    </tr>\n",
       "  </tbody>\n",
       "</table>\n",
       "</div>"
      ],
      "text/plain": [
       "  Product  Age  Gender  Education MaritalStatus  Usage  Fitness  Income  Miles\n",
       "0   KP281   18    Male         14        Single      3        4   29562    112\n",
       "1   KP281   19    Male         15        Single      2        3   31836     75\n",
       "2   KP281   19  Female         14     Partnered      4        3   30699     66\n",
       "3   KP281   19    Male         12        Single      3        3   32973     85\n",
       "4   KP281   20    Male         13     Partnered      4        2   35247     47"
      ]
     },
     "execution_count": 30,
     "metadata": {},
     "output_type": "execute_result"
    }
   ],
   "source": [
    "aerofit.head()"
   ]
  },
  {
   "cell_type": "code",
   "execution_count": 31,
   "id": "6226048a",
   "metadata": {},
   "outputs": [
    {
     "data": {
      "text/html": [
       "<div>\n",
       "<style scoped>\n",
       "    .dataframe tbody tr th:only-of-type {\n",
       "        vertical-align: middle;\n",
       "    }\n",
       "\n",
       "    .dataframe tbody tr th {\n",
       "        vertical-align: top;\n",
       "    }\n",
       "\n",
       "    .dataframe thead th {\n",
       "        text-align: right;\n",
       "    }\n",
       "</style>\n",
       "<table border=\"1\" class=\"dataframe\">\n",
       "  <thead>\n",
       "    <tr style=\"text-align: right;\">\n",
       "      <th></th>\n",
       "      <th>Product</th>\n",
       "      <th>Age</th>\n",
       "      <th>Gender</th>\n",
       "      <th>Education</th>\n",
       "      <th>MaritalStatus</th>\n",
       "      <th>Usage</th>\n",
       "      <th>Fitness</th>\n",
       "      <th>Income</th>\n",
       "      <th>Miles</th>\n",
       "      <th>Age Bin</th>\n",
       "    </tr>\n",
       "  </thead>\n",
       "  <tbody>\n",
       "    <tr>\n",
       "      <th>0</th>\n",
       "      <td>KP281</td>\n",
       "      <td>18</td>\n",
       "      <td>Male</td>\n",
       "      <td>14</td>\n",
       "      <td>Single</td>\n",
       "      <td>3</td>\n",
       "      <td>4</td>\n",
       "      <td>29562</td>\n",
       "      <td>112</td>\n",
       "      <td>(0, 20]</td>\n",
       "    </tr>\n",
       "    <tr>\n",
       "      <th>1</th>\n",
       "      <td>KP281</td>\n",
       "      <td>19</td>\n",
       "      <td>Male</td>\n",
       "      <td>15</td>\n",
       "      <td>Single</td>\n",
       "      <td>2</td>\n",
       "      <td>3</td>\n",
       "      <td>31836</td>\n",
       "      <td>75</td>\n",
       "      <td>(0, 20]</td>\n",
       "    </tr>\n",
       "    <tr>\n",
       "      <th>2</th>\n",
       "      <td>KP281</td>\n",
       "      <td>19</td>\n",
       "      <td>Female</td>\n",
       "      <td>14</td>\n",
       "      <td>Partnered</td>\n",
       "      <td>4</td>\n",
       "      <td>3</td>\n",
       "      <td>30699</td>\n",
       "      <td>66</td>\n",
       "      <td>(0, 20]</td>\n",
       "    </tr>\n",
       "    <tr>\n",
       "      <th>3</th>\n",
       "      <td>KP281</td>\n",
       "      <td>19</td>\n",
       "      <td>Male</td>\n",
       "      <td>12</td>\n",
       "      <td>Single</td>\n",
       "      <td>3</td>\n",
       "      <td>3</td>\n",
       "      <td>32973</td>\n",
       "      <td>85</td>\n",
       "      <td>(0, 20]</td>\n",
       "    </tr>\n",
       "    <tr>\n",
       "      <th>4</th>\n",
       "      <td>KP281</td>\n",
       "      <td>20</td>\n",
       "      <td>Male</td>\n",
       "      <td>13</td>\n",
       "      <td>Partnered</td>\n",
       "      <td>4</td>\n",
       "      <td>2</td>\n",
       "      <td>35247</td>\n",
       "      <td>47</td>\n",
       "      <td>(0, 20]</td>\n",
       "    </tr>\n",
       "  </tbody>\n",
       "</table>\n",
       "</div>"
      ],
      "text/plain": [
       "  Product  Age  Gender  Education MaritalStatus  Usage  Fitness  Income  \\\n",
       "0   KP281   18    Male         14        Single      3        4   29562   \n",
       "1   KP281   19    Male         15        Single      2        3   31836   \n",
       "2   KP281   19  Female         14     Partnered      4        3   30699   \n",
       "3   KP281   19    Male         12        Single      3        3   32973   \n",
       "4   KP281   20    Male         13     Partnered      4        2   35247   \n",
       "\n",
       "   Miles  Age Bin  \n",
       "0    112  (0, 20]  \n",
       "1     75  (0, 20]  \n",
       "2     66  (0, 20]  \n",
       "3     85  (0, 20]  \n",
       "4     47  (0, 20]  "
      ]
     },
     "execution_count": 31,
     "metadata": {},
     "output_type": "execute_result"
    }
   ],
   "source": [
    "bins = [0, 20, 28, 40, 50, 60, 100]\n",
    "\n",
    "aerofit['Age Bin'] = pd.cut(aerofit['Age'], bins = bins)\n",
    "aerofit.head()"
   ]
  },
  {
   "cell_type": "code",
   "execution_count": 32,
   "id": "c08361bd",
   "metadata": {},
   "outputs": [
    {
     "data": {
      "text/html": [
       "<div>\n",
       "<style scoped>\n",
       "    .dataframe tbody tr th:only-of-type {\n",
       "        vertical-align: middle;\n",
       "    }\n",
       "\n",
       "    .dataframe tbody tr th {\n",
       "        vertical-align: top;\n",
       "    }\n",
       "\n",
       "    .dataframe thead th {\n",
       "        text-align: right;\n",
       "    }\n",
       "</style>\n",
       "<table border=\"1\" class=\"dataframe\">\n",
       "  <thead>\n",
       "    <tr style=\"text-align: right;\">\n",
       "      <th>Age Bin</th>\n",
       "      <th>(0, 20]</th>\n",
       "      <th>(20, 28]</th>\n",
       "      <th>(28, 40]</th>\n",
       "      <th>(40, 50]</th>\n",
       "    </tr>\n",
       "    <tr>\n",
       "      <th>Product</th>\n",
       "      <th></th>\n",
       "      <th></th>\n",
       "      <th></th>\n",
       "      <th></th>\n",
       "    </tr>\n",
       "  </thead>\n",
       "  <tbody>\n",
       "    <tr>\n",
       "      <th>KP281</th>\n",
       "      <td>0.6</td>\n",
       "      <td>0.453608</td>\n",
       "      <td>0.393443</td>\n",
       "      <td>0.500000</td>\n",
       "    </tr>\n",
       "    <tr>\n",
       "      <th>KP481</th>\n",
       "      <td>0.4</td>\n",
       "      <td>0.288660</td>\n",
       "      <td>0.426230</td>\n",
       "      <td>0.166667</td>\n",
       "    </tr>\n",
       "    <tr>\n",
       "      <th>KP781</th>\n",
       "      <td>0.0</td>\n",
       "      <td>0.257732</td>\n",
       "      <td>0.180328</td>\n",
       "      <td>0.333333</td>\n",
       "    </tr>\n",
       "  </tbody>\n",
       "</table>\n",
       "</div>"
      ],
      "text/plain": [
       "Age Bin  (0, 20]  (20, 28]  (28, 40]  (40, 50]\n",
       "Product                                       \n",
       "KP281        0.6  0.453608  0.393443  0.500000\n",
       "KP481        0.4  0.288660  0.426230  0.166667\n",
       "KP781        0.0  0.257732  0.180328  0.333333"
      ]
     },
     "execution_count": 32,
     "metadata": {},
     "output_type": "execute_result"
    }
   ],
   "source": [
    "pd.crosstab(aerofit.Product, aerofit['Age Bin'], normalize = 'columns')"
   ]
  },
  {
   "cell_type": "markdown",
   "id": "baa4bb53",
   "metadata": {},
   "source": [
    "<b> Recommendation </b> <br>\n",
    "\n",
    "On seeing above marginal probability for people between age group 0 to 20 KP281 has higher probability. <br>\n",
    "For 20 to 28 years old people, KP281 should be recommended and for people between 28 to 40 KP481 should be recommended.\n",
    "\n",
    "For 40 to 50 KP281 and KP781 both can be recommended."
   ]
  },
  {
   "cell_type": "code",
   "execution_count": 33,
   "id": "d05db9d4",
   "metadata": {},
   "outputs": [
    {
     "data": {
      "text/html": [
       "<div>\n",
       "<style scoped>\n",
       "    .dataframe tbody tr th:only-of-type {\n",
       "        vertical-align: middle;\n",
       "    }\n",
       "\n",
       "    .dataframe tbody tr th {\n",
       "        vertical-align: top;\n",
       "    }\n",
       "\n",
       "    .dataframe thead th {\n",
       "        text-align: right;\n",
       "    }\n",
       "</style>\n",
       "<table border=\"1\" class=\"dataframe\">\n",
       "  <thead>\n",
       "    <tr style=\"text-align: right;\">\n",
       "      <th></th>\n",
       "      <th>Product</th>\n",
       "      <th>Age</th>\n",
       "      <th>Gender</th>\n",
       "      <th>Education</th>\n",
       "      <th>MaritalStatus</th>\n",
       "      <th>Usage</th>\n",
       "      <th>Fitness</th>\n",
       "      <th>Income</th>\n",
       "      <th>Miles</th>\n",
       "      <th>Age Bin</th>\n",
       "      <th>IncomeBin</th>\n",
       "    </tr>\n",
       "  </thead>\n",
       "  <tbody>\n",
       "    <tr>\n",
       "      <th>0</th>\n",
       "      <td>KP281</td>\n",
       "      <td>18</td>\n",
       "      <td>Male</td>\n",
       "      <td>14</td>\n",
       "      <td>Single</td>\n",
       "      <td>3</td>\n",
       "      <td>4</td>\n",
       "      <td>29562</td>\n",
       "      <td>112</td>\n",
       "      <td>(0, 20]</td>\n",
       "      <td>(20000, 30000]</td>\n",
       "    </tr>\n",
       "    <tr>\n",
       "      <th>1</th>\n",
       "      <td>KP281</td>\n",
       "      <td>19</td>\n",
       "      <td>Male</td>\n",
       "      <td>15</td>\n",
       "      <td>Single</td>\n",
       "      <td>2</td>\n",
       "      <td>3</td>\n",
       "      <td>31836</td>\n",
       "      <td>75</td>\n",
       "      <td>(0, 20]</td>\n",
       "      <td>(30000, 50000]</td>\n",
       "    </tr>\n",
       "    <tr>\n",
       "      <th>2</th>\n",
       "      <td>KP281</td>\n",
       "      <td>19</td>\n",
       "      <td>Female</td>\n",
       "      <td>14</td>\n",
       "      <td>Partnered</td>\n",
       "      <td>4</td>\n",
       "      <td>3</td>\n",
       "      <td>30699</td>\n",
       "      <td>66</td>\n",
       "      <td>(0, 20]</td>\n",
       "      <td>(30000, 50000]</td>\n",
       "    </tr>\n",
       "    <tr>\n",
       "      <th>3</th>\n",
       "      <td>KP281</td>\n",
       "      <td>19</td>\n",
       "      <td>Male</td>\n",
       "      <td>12</td>\n",
       "      <td>Single</td>\n",
       "      <td>3</td>\n",
       "      <td>3</td>\n",
       "      <td>32973</td>\n",
       "      <td>85</td>\n",
       "      <td>(0, 20]</td>\n",
       "      <td>(30000, 50000]</td>\n",
       "    </tr>\n",
       "    <tr>\n",
       "      <th>4</th>\n",
       "      <td>KP281</td>\n",
       "      <td>20</td>\n",
       "      <td>Male</td>\n",
       "      <td>13</td>\n",
       "      <td>Partnered</td>\n",
       "      <td>4</td>\n",
       "      <td>2</td>\n",
       "      <td>35247</td>\n",
       "      <td>47</td>\n",
       "      <td>(0, 20]</td>\n",
       "      <td>(30000, 50000]</td>\n",
       "    </tr>\n",
       "  </tbody>\n",
       "</table>\n",
       "</div>"
      ],
      "text/plain": [
       "  Product  Age  Gender  Education MaritalStatus  Usage  Fitness  Income  \\\n",
       "0   KP281   18    Male         14        Single      3        4   29562   \n",
       "1   KP281   19    Male         15        Single      2        3   31836   \n",
       "2   KP281   19  Female         14     Partnered      4        3   30699   \n",
       "3   KP281   19    Male         12        Single      3        3   32973   \n",
       "4   KP281   20    Male         13     Partnered      4        2   35247   \n",
       "\n",
       "   Miles  Age Bin       IncomeBin  \n",
       "0    112  (0, 20]  (20000, 30000]  \n",
       "1     75  (0, 20]  (30000, 50000]  \n",
       "2     66  (0, 20]  (30000, 50000]  \n",
       "3     85  (0, 20]  (30000, 50000]  \n",
       "4     47  (0, 20]  (30000, 50000]  "
      ]
     },
     "execution_count": 33,
     "metadata": {},
     "output_type": "execute_result"
    }
   ],
   "source": [
    "bins = [0, 20000, 30000, 50000, 70000, 100000, 1000000]\n",
    "\n",
    "aerofit['IncomeBin'] = pd.cut(aerofit['Income'], bins = bins)\n",
    "aerofit.head()"
   ]
  },
  {
   "cell_type": "code",
   "execution_count": 34,
   "id": "ab457bfa",
   "metadata": {},
   "outputs": [
    {
     "data": {
      "text/html": [
       "<div>\n",
       "<style scoped>\n",
       "    .dataframe tbody tr th:only-of-type {\n",
       "        vertical-align: middle;\n",
       "    }\n",
       "\n",
       "    .dataframe tbody tr th {\n",
       "        vertical-align: top;\n",
       "    }\n",
       "\n",
       "    .dataframe thead th {\n",
       "        text-align: right;\n",
       "    }\n",
       "</style>\n",
       "<table border=\"1\" class=\"dataframe\">\n",
       "  <thead>\n",
       "    <tr style=\"text-align: right;\">\n",
       "      <th>IncomeBin</th>\n",
       "      <th>(20000, 30000]</th>\n",
       "      <th>(30000, 50000]</th>\n",
       "      <th>(50000, 70000]</th>\n",
       "      <th>(70000, 100000]</th>\n",
       "      <th>(100000, 1000000]</th>\n",
       "    </tr>\n",
       "    <tr>\n",
       "      <th>Product</th>\n",
       "      <th></th>\n",
       "      <th></th>\n",
       "      <th></th>\n",
       "      <th></th>\n",
       "      <th></th>\n",
       "    </tr>\n",
       "  </thead>\n",
       "  <tbody>\n",
       "    <tr>\n",
       "      <th>KP281</th>\n",
       "      <td>1.0</td>\n",
       "      <td>0.573171</td>\n",
       "      <td>0.432432</td>\n",
       "      <td>0.0</td>\n",
       "      <td>0.0</td>\n",
       "    </tr>\n",
       "    <tr>\n",
       "      <th>KP481</th>\n",
       "      <td>0.0</td>\n",
       "      <td>0.365854</td>\n",
       "      <td>0.405405</td>\n",
       "      <td>0.0</td>\n",
       "      <td>0.0</td>\n",
       "    </tr>\n",
       "    <tr>\n",
       "      <th>KP781</th>\n",
       "      <td>0.0</td>\n",
       "      <td>0.060976</td>\n",
       "      <td>0.162162</td>\n",
       "      <td>1.0</td>\n",
       "      <td>1.0</td>\n",
       "    </tr>\n",
       "  </tbody>\n",
       "</table>\n",
       "</div>"
      ],
      "text/plain": [
       "IncomeBin  (20000, 30000]  (30000, 50000]  (50000, 70000]  (70000, 100000]  \\\n",
       "Product                                                                      \n",
       "KP281                 1.0        0.573171        0.432432              0.0   \n",
       "KP481                 0.0        0.365854        0.405405              0.0   \n",
       "KP781                 0.0        0.060976        0.162162              1.0   \n",
       "\n",
       "IncomeBin  (100000, 1000000]  \n",
       "Product                       \n",
       "KP281                    0.0  \n",
       "KP481                    0.0  \n",
       "KP781                    1.0  "
      ]
     },
     "execution_count": 34,
     "metadata": {},
     "output_type": "execute_result"
    }
   ],
   "source": [
    "pd.crosstab(aerofit.Product, aerofit['IncomeBin'], normalize = 'columns')"
   ]
  },
  {
   "cell_type": "markdown",
   "id": "6b066924",
   "metadata": {},
   "source": [
    "<b> Recommendation </b> <br>\n",
    "\n",
    "On seeing above marginal probability for people having salary higher than 75000 dollars should buy KP781 and people having salary below 30000 dollars should be recommended KP281.\n",
    "\n",
    "Now, for people having salary between 30000 to 50000 dollars and 50000 to 70000 dollars KP281 and KP481 both can be recommended as probabilities are very nearby."
   ]
  },
  {
   "cell_type": "code",
   "execution_count": 35,
   "id": "90acb8a4",
   "metadata": {},
   "outputs": [
    {
     "data": {
      "text/html": [
       "<div>\n",
       "<style scoped>\n",
       "    .dataframe tbody tr th:only-of-type {\n",
       "        vertical-align: middle;\n",
       "    }\n",
       "\n",
       "    .dataframe tbody tr th {\n",
       "        vertical-align: top;\n",
       "    }\n",
       "\n",
       "    .dataframe thead th {\n",
       "        text-align: right;\n",
       "    }\n",
       "</style>\n",
       "<table border=\"1\" class=\"dataframe\">\n",
       "  <thead>\n",
       "    <tr style=\"text-align: right;\">\n",
       "      <th></th>\n",
       "      <th>Product</th>\n",
       "      <th>Age</th>\n",
       "      <th>Gender</th>\n",
       "      <th>Education</th>\n",
       "      <th>MaritalStatus</th>\n",
       "      <th>Usage</th>\n",
       "      <th>Fitness</th>\n",
       "      <th>Income</th>\n",
       "      <th>Miles</th>\n",
       "      <th>Age Bin</th>\n",
       "      <th>IncomeBin</th>\n",
       "    </tr>\n",
       "  </thead>\n",
       "  <tbody>\n",
       "    <tr>\n",
       "      <th>0</th>\n",
       "      <td>KP281</td>\n",
       "      <td>18</td>\n",
       "      <td>Male</td>\n",
       "      <td>14</td>\n",
       "      <td>Single</td>\n",
       "      <td>3</td>\n",
       "      <td>4</td>\n",
       "      <td>29562</td>\n",
       "      <td>112</td>\n",
       "      <td>(0, 20]</td>\n",
       "      <td>(20000, 30000]</td>\n",
       "    </tr>\n",
       "    <tr>\n",
       "      <th>1</th>\n",
       "      <td>KP281</td>\n",
       "      <td>19</td>\n",
       "      <td>Male</td>\n",
       "      <td>15</td>\n",
       "      <td>Single</td>\n",
       "      <td>2</td>\n",
       "      <td>3</td>\n",
       "      <td>31836</td>\n",
       "      <td>75</td>\n",
       "      <td>(0, 20]</td>\n",
       "      <td>(30000, 50000]</td>\n",
       "    </tr>\n",
       "    <tr>\n",
       "      <th>2</th>\n",
       "      <td>KP281</td>\n",
       "      <td>19</td>\n",
       "      <td>Female</td>\n",
       "      <td>14</td>\n",
       "      <td>Partnered</td>\n",
       "      <td>4</td>\n",
       "      <td>3</td>\n",
       "      <td>30699</td>\n",
       "      <td>66</td>\n",
       "      <td>(0, 20]</td>\n",
       "      <td>(30000, 50000]</td>\n",
       "    </tr>\n",
       "    <tr>\n",
       "      <th>3</th>\n",
       "      <td>KP281</td>\n",
       "      <td>19</td>\n",
       "      <td>Male</td>\n",
       "      <td>12</td>\n",
       "      <td>Single</td>\n",
       "      <td>3</td>\n",
       "      <td>3</td>\n",
       "      <td>32973</td>\n",
       "      <td>85</td>\n",
       "      <td>(0, 20]</td>\n",
       "      <td>(30000, 50000]</td>\n",
       "    </tr>\n",
       "    <tr>\n",
       "      <th>4</th>\n",
       "      <td>KP281</td>\n",
       "      <td>20</td>\n",
       "      <td>Male</td>\n",
       "      <td>13</td>\n",
       "      <td>Partnered</td>\n",
       "      <td>4</td>\n",
       "      <td>2</td>\n",
       "      <td>35247</td>\n",
       "      <td>47</td>\n",
       "      <td>(0, 20]</td>\n",
       "      <td>(30000, 50000]</td>\n",
       "    </tr>\n",
       "  </tbody>\n",
       "</table>\n",
       "</div>"
      ],
      "text/plain": [
       "  Product  Age  Gender  Education MaritalStatus  Usage  Fitness  Income  \\\n",
       "0   KP281   18    Male         14        Single      3        4   29562   \n",
       "1   KP281   19    Male         15        Single      2        3   31836   \n",
       "2   KP281   19  Female         14     Partnered      4        3   30699   \n",
       "3   KP281   19    Male         12        Single      3        3   32973   \n",
       "4   KP281   20    Male         13     Partnered      4        2   35247   \n",
       "\n",
       "   Miles  Age Bin       IncomeBin  \n",
       "0    112  (0, 20]  (20000, 30000]  \n",
       "1     75  (0, 20]  (30000, 50000]  \n",
       "2     66  (0, 20]  (30000, 50000]  \n",
       "3     85  (0, 20]  (30000, 50000]  \n",
       "4     47  (0, 20]  (30000, 50000]  "
      ]
     },
     "execution_count": 35,
     "metadata": {},
     "output_type": "execute_result"
    }
   ],
   "source": [
    "aerofit.head()"
   ]
  },
  {
   "cell_type": "code",
   "execution_count": 36,
   "id": "95ae83dc",
   "metadata": {},
   "outputs": [
    {
     "data": {
      "text/html": [
       "<div>\n",
       "<style scoped>\n",
       "    .dataframe tbody tr th:only-of-type {\n",
       "        vertical-align: middle;\n",
       "    }\n",
       "\n",
       "    .dataframe tbody tr th {\n",
       "        vertical-align: top;\n",
       "    }\n",
       "\n",
       "    .dataframe thead th {\n",
       "        text-align: right;\n",
       "    }\n",
       "</style>\n",
       "<table border=\"1\" class=\"dataframe\">\n",
       "  <thead>\n",
       "    <tr style=\"text-align: right;\">\n",
       "      <th>Usage</th>\n",
       "      <th>2</th>\n",
       "      <th>3</th>\n",
       "      <th>4</th>\n",
       "      <th>5</th>\n",
       "      <th>6</th>\n",
       "      <th>7</th>\n",
       "    </tr>\n",
       "    <tr>\n",
       "      <th>Product</th>\n",
       "      <th></th>\n",
       "      <th></th>\n",
       "      <th></th>\n",
       "      <th></th>\n",
       "      <th></th>\n",
       "      <th></th>\n",
       "    </tr>\n",
       "  </thead>\n",
       "  <tbody>\n",
       "    <tr>\n",
       "      <th>KP281</th>\n",
       "      <td>0.575758</td>\n",
       "      <td>0.536232</td>\n",
       "      <td>0.423077</td>\n",
       "      <td>0.117647</td>\n",
       "      <td>0.0</td>\n",
       "      <td>0.0</td>\n",
       "    </tr>\n",
       "    <tr>\n",
       "      <th>KP481</th>\n",
       "      <td>0.424242</td>\n",
       "      <td>0.449275</td>\n",
       "      <td>0.230769</td>\n",
       "      <td>0.176471</td>\n",
       "      <td>0.0</td>\n",
       "      <td>0.0</td>\n",
       "    </tr>\n",
       "    <tr>\n",
       "      <th>KP781</th>\n",
       "      <td>0.000000</td>\n",
       "      <td>0.014493</td>\n",
       "      <td>0.346154</td>\n",
       "      <td>0.705882</td>\n",
       "      <td>1.0</td>\n",
       "      <td>1.0</td>\n",
       "    </tr>\n",
       "  </tbody>\n",
       "</table>\n",
       "</div>"
      ],
      "text/plain": [
       "Usage           2         3         4         5    6    7\n",
       "Product                                                  \n",
       "KP281    0.575758  0.536232  0.423077  0.117647  0.0  0.0\n",
       "KP481    0.424242  0.449275  0.230769  0.176471  0.0  0.0\n",
       "KP781    0.000000  0.014493  0.346154  0.705882  1.0  1.0"
      ]
     },
     "execution_count": 36,
     "metadata": {},
     "output_type": "execute_result"
    }
   ],
   "source": [
    "pd.crosstab(aerofit.Product, aerofit.Usage, normalize = 'columns')"
   ]
  },
  {
   "cell_type": "markdown",
   "id": "0de6dc74",
   "metadata": {},
   "source": [
    "<b> Recommendation </b> <br>\n",
    "\n",
    "On seeing above marginal probability people who use trademill more than 4 times a week tend to buy KP781 more as compared to others.\n",
    "\n",
    "Also, people using trademill twice or thrice a week tend to buy KP281 and KP481 almost equally whereas people running four times a week has almost equal distribution for purchasing trademill."
   ]
  }
 ],
 "metadata": {
  "kernelspec": {
   "display_name": "Python 3 (ipykernel)",
   "language": "python",
   "name": "python3"
  },
  "language_info": {
   "codemirror_mode": {
    "name": "ipython",
    "version": 3
   },
   "file_extension": ".py",
   "mimetype": "text/x-python",
   "name": "python",
   "nbconvert_exporter": "python",
   "pygments_lexer": "ipython3",
   "version": "3.9.7"
  }
 },
 "nbformat": 4,
 "nbformat_minor": 5
}
